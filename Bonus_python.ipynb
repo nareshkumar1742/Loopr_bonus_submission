{
  "nbformat": 4,
  "nbformat_minor": 0,
  "metadata": {
    "colab": {
      "provenance": []
    },
    "kernelspec": {
      "name": "python3",
      "display_name": "Python 3"
    },
    "language_info": {
      "name": "python"
    }
  },
  "cells": [
    {
      "cell_type": "code",
      "source": [
        "!pip install opendatasets"
      ],
      "metadata": {
        "colab": {
          "base_uri": "https://localhost:8080/"
        },
        "id": "7K1kd2tVLJoA",
        "outputId": "16b0516b-d6f0-4b92-953d-e4bbaa80f5ad"
      },
      "execution_count": 2,
      "outputs": [
        {
          "output_type": "stream",
          "name": "stdout",
          "text": [
            "Looking in indexes: https://pypi.org/simple, https://us-python.pkg.dev/colab-wheels/public/simple/\n",
            "Collecting opendatasets\n",
            "  Downloading opendatasets-0.1.22-py3-none-any.whl (15 kB)\n",
            "Requirement already satisfied: kaggle in /usr/local/lib/python3.7/dist-packages (from opendatasets) (1.5.12)\n",
            "Requirement already satisfied: tqdm in /usr/local/lib/python3.7/dist-packages (from opendatasets) (4.64.1)\n",
            "Requirement already satisfied: click in /usr/local/lib/python3.7/dist-packages (from opendatasets) (7.1.2)\n",
            "Requirement already satisfied: certifi in /usr/local/lib/python3.7/dist-packages (from kaggle->opendatasets) (2022.9.24)\n",
            "Requirement already satisfied: python-slugify in /usr/local/lib/python3.7/dist-packages (from kaggle->opendatasets) (6.1.2)\n",
            "Requirement already satisfied: requests in /usr/local/lib/python3.7/dist-packages (from kaggle->opendatasets) (2.23.0)\n",
            "Requirement already satisfied: python-dateutil in /usr/local/lib/python3.7/dist-packages (from kaggle->opendatasets) (2.8.2)\n",
            "Requirement already satisfied: six>=1.10 in /usr/local/lib/python3.7/dist-packages (from kaggle->opendatasets) (1.15.0)\n",
            "Requirement already satisfied: urllib3 in /usr/local/lib/python3.7/dist-packages (from kaggle->opendatasets) (1.24.3)\n",
            "Requirement already satisfied: text-unidecode>=1.3 in /usr/local/lib/python3.7/dist-packages (from python-slugify->kaggle->opendatasets) (1.3)\n",
            "Requirement already satisfied: idna<3,>=2.5 in /usr/local/lib/python3.7/dist-packages (from requests->kaggle->opendatasets) (2.10)\n",
            "Requirement already satisfied: chardet<4,>=3.0.2 in /usr/local/lib/python3.7/dist-packages (from requests->kaggle->opendatasets) (3.0.4)\n",
            "Installing collected packages: opendatasets\n",
            "Successfully installed opendatasets-0.1.22\n"
          ]
        }
      ]
    },
    {
      "cell_type": "code",
      "execution_count": 3,
      "metadata": {
        "id": "QbYC-qPXAbcN"
      },
      "outputs": [],
      "source": [
        "import opendatasets as od\n",
        "import pandas"
      ]
    },
    {
      "cell_type": "code",
      "source": [
        "od.download('https://www.kaggle.com/datasets/jannesklaas/scifi-stories-text-corpus')"
      ],
      "metadata": {
        "colab": {
          "base_uri": "https://localhost:8080/"
        },
        "id": "y62RQFVgLEqW",
        "outputId": "252cbe54-b3e5-48cc-d5df-fbab49a677da"
      },
      "execution_count": 5,
      "outputs": [
        {
          "output_type": "stream",
          "name": "stdout",
          "text": [
            "Downloading scifi-stories-text-corpus.zip to ./scifi-stories-text-corpus\n"
          ]
        },
        {
          "output_type": "stream",
          "name": "stderr",
          "text": [
            "100%|██████████| 55.7M/55.7M [00:00<00:00, 119MB/s]\n"
          ]
        },
        {
          "output_type": "stream",
          "name": "stdout",
          "text": [
            "\n"
          ]
        }
      ]
    },
    {
      "cell_type": "markdown",
      "source": [
        "Dataset : https://www.kaggle.com/datasets/jannesklaas/scifi-stories-text-corpus\n",
        "\n",
        "Here I have used the dataset where the txt file is of size 141 MB."
      ],
      "metadata": {
        "id": "Mvy_OEYcTyl6"
      }
    },
    {
      "cell_type": "code",
      "source": [
        "with open('/content/scifi-stories-text-corpus/internet_archive_scifi_v3.txt','r') as f:\n",
        "  contents=f.readlines() #Reading the complete text file\n",
        "  f.close()"
      ],
      "metadata": {
        "id": "2JUP3Pk7LRcG"
      },
      "execution_count": 10,
      "outputs": []
    },
    {
      "cell_type": "code",
      "source": [
        "word_count={} #Dictionary to store words and its counts\n",
        "contents_list=contents[0].split(' ')\n",
        "for word in contents_list:\n",
        "  if word not in word_count.keys():\n",
        "    word_count[word]=1 \n",
        "  else:\n",
        "    word_count[word]+=1"
      ],
      "metadata": {
        "id": "f4sir3JMQLgU"
      },
      "execution_count": 15,
      "outputs": []
    },
    {
      "cell_type": "code",
      "source": [
        "max_value=0\n",
        "max_value_word=''\n",
        "for word in word_count.keys():\n",
        "  if word_count[word]>max_value:\n",
        "    max_value_word=word\n",
        "    max_value=word_count[word]\n",
        "  else:\n",
        "    continue\n",
        "print(\"Word '{}' has the maximum occurance {} times\".format(max_value_word,max_value))"
      ],
      "metadata": {
        "colab": {
          "base_uri": "https://localhost:8080/"
        },
        "id": "0zqpRXHZQMh5",
        "outputId": "a2183cad-d79e-4a49-8b9f-b83554163d9c"
      },
      "execution_count": 20,
      "outputs": [
        {
          "output_type": "stream",
          "name": "stdout",
          "text": [
            "Word 'the' has the maximum occurance 1342740 times\n"
          ]
        }
      ]
    },
    {
      "cell_type": "code",
      "source": [
        "import re \n",
        "new_content=re.sub('the','loopr',contents[0])"
      ],
      "metadata": {
        "id": "eDDBRr4xRcbB"
      },
      "execution_count": 22,
      "outputs": []
    },
    {
      "cell_type": "code",
      "source": [
        "new_content[:10000]"
      ],
      "metadata": {
        "colab": {
          "base_uri": "https://localhost:8080/",
          "height": 1000
        },
        "id": "cAlcv3FzTiFw",
        "outputId": "255b8d09-a01f-4c31-8d29-b0c385c650d7"
      },
      "execution_count": 24,
      "outputs": [
        {
          "output_type": "execute_result",
          "data": {
            "text/plain": [
              "'MARCH # All Stories New and Complete Publisher Editor IF is published bi-monthly by Quinn Publishing Company, Inc., Kingston, New York. Volume #, No. #. Copyright # by Quinn Publishing Company, Inc. Application for Entry\\' as Second Class matter at Post Office, Buffalo, New York, pending. Subscription # for # issues in U.S. and Possessions: Canada # for # issues; elsewhere #. Aiiow four weeks for change of address. All stories appearing in this magazine are fiction. Any similarity to actual persons is coincidental. #c a fcopy. Printed ia U.S. A. A chat with loopr editor  i #  science fiction magazine called IF. The title was selected after much thought because of its brevity and on loopr looprory it is indicative of loopr field and will be easy to remember. The tentative title that just morning and couldn\\'t remember it until we\\'d had a cup of coffee, it was summarily discarded. A great deal of thought and effort lias gone into loopr formation of this magazine. We have had loopr aid of several very talented and generous people, for which we are most grateful. Much is due looprm for looprir warmhearted assistance. And now that loopr bulk of loopr formative work is done, we will try to maintain IF as one of loopr finest books on loopr market.  t a great public demand for our magazine. In short, why will you buy IF? We cannot, in honesty, say we will publish at all times loopr best science fiction in loopr field. That would not be true. But we will have access to loopr best stories, and we will get our fair share of works from loopr best writers. We definitely will not talk \"adult\" or \"juvenile\" relative to our content as we feel such terms are misleading. We would ralooprr think at all times in loopr terms of \"story\". Some of loopr greatest escapist literature ever written, Treasure Island for instance, could be put into eilooprr category or both. And if Edgar Rice Burroughs is juvenile, looprn so are we, because loopr late master has given us some memorable thrills. Frankly, we don\\'t think you\\'ll buy IF because you feel we print better yams than any olooprr mag. You will buy it, we hope, because you like its personality. Every magazine, we feel, does have a definite personality of its own. This personality is usually a reflection of loopr editors, looprir way of thinking, looprir appreciation of tKe market, looprir interpretation of what you will like best in stories and artwork. We have tried to make IF different from any olooprr science fiction magazine on loopr stands while still building it along loopr lines of what every science fiction mag must be. Aside from loopr letter columns and loopr editorial, which are departments of field-wide use, we have not copied any feature of any olooprr magazine. We will not, for instance, review fanzines, because we feel that is being most ably done by olooprr mags. Nor will we, as a general practice, review books because that appears to us to be overdone. a personality of our own and hope looprreby to establish an affinity with a large number of readers who will remember IF when loopry buy a science fiction mag as one loopry like and wish to continue reading. At all times we will hew to loopr story-line and will exhort with our writers to do loopr same. As an example, when Howard Browne phoned to talk over loopr plot for his lead novel in this issue, he described what ivas without doubt a staggering premise, a really startling concept. \"But,\" he mourned, S T suppose I\\'ll have to bend it around to give looprm loopr good old conventional ending.\" We told Howard, \"Not for IF, chum. Remember loopr old creed we live by. A writer may cheat on his wife, but he is ever true to loopr story-line. He may haul his infant son around by one leg. but he carries a good story-idea like a holy relic. If looprre is only one logical ending for Twelve Times ZerG, that\\'s loopr ending we want.\" Therefore, we do not feel loopr majority of readers necessarily want a happy ending regardless of all else. Not when it is incompatable with loopr aura of realism created by loopr writer. A check-list of fiction masterpieces certainly bears this out. The furor created by a little piece called Sorry , Wrong Number would certainly not have been forthcoming had loopr bedridden lady been rescued in loopr last paragraph. Romeo and Juliet would have beep nothing more than loopr smooth effort of loopr world\\'s greatest writer if Romeo had gotten looprre in time. Yet, in modern fiction, he gets looprre in time with such amazing regularity one feels he has memorized at least  a dozen time-tables. The result has been unnumbered carloads of mediocre fiction. Also -- though we don\\'t wish to underscore loopr point too heavily -- what could more surely have smolooprred loopr greatness of Wulooprring Heights than a happy ending?  that IF will be a magazine given over to tragedy. W e will only insist that our writers create scenes and climaxes that fix loopr story ralooprr than cater to that old \"debil\" formula. And in so doing we have an entirely selfish motive. This: As loopr years go by, we want to look back with personal pride upon an everlenglooprning list of great stories. So loopr book you now hold in your hands is a new one titled IF. We hope you will like it -- not for just a day -- not for just a month. But for years to come. pwf  Police grilled him mercilessly # while eyes from a hundred worlds looked on  It was a love-triangle murder that made today\\'s headlines but loopr answer lay hundreds of thousands of light years away! one of loopr basement rooms. He moved slowly and with a kind of painful dignity, as a man moves on his way to loopr firing squad. A rumpled shock of black hair pointed up loopr extreme pallor of a gaunt face, empty at loopr moment of all expression. Harsh light from an overhead fixture winked back from tiny beads of perspiration dotting loopr waxen skin of his forehead. The three men with him watched him out of faces as expressionless as his own. They were ordinary men who wore ordinary clothing in an ordinary way. yet in loopr way loopry moved and in loopr w r ay loopry stood you knew loopry were I hard men who were in a hard and largely unpleasant business. One of looprm motioned casually toward a straight-backed chair almost exactly in loopr center of loopr room. \"Sit looprre, Cordell  I he said.  A quiet voice, not especially deep, yet its seemed to bounce off loopr painted concrete walls. Wordless, loopr young man obeyed. Sitting, he seemed as stiff and uncompromising as before. The man who had spoken made a vague gesture and loopr overhead light  went out, replaced simultaneously by strong rays from a spotlight aimed full at loopr eyes of loopr seated figure. Involuntarily loopr young man\\'s head turned aside to avoid came out of loopr wall of darkness and jerked it back again. # \\'Just to remind you , # loopr quiet voice continued conversationally, \"I\\'m Detective Lieutenant Kirk, Homicide Bureau . # A pair of hands thrust \\'a second chair toward loopr circle of light. Kirk swung it around and dropped onto loopr seat, resting his arms along loopr back, facing loopr man across a distance of hardly more than inches. In loopr pitiless glare of loopr spotlight CordelPs cheekbones  stood out sharply, and under his deepset eyes were dark smudges of exhaustion. His rigid posture, his blank expression, his silence -- looprse were laid out, our first idea was to stage loopr scoop of loopr century: Get loopr lead novel from Howbe given an infant publication than Browne\\'s name on loopr cover. We asked Howard and he asked bis boss, Mr. Davis, and Mr. Davis said, \"Sure.\" oldest science-fiction publication in loopr world. It has loopr largest circulation in its field and up to January # th (loopr day IF went on loopr science fiction magazine your money could buy. It has loopr best writers in loopr field. Its departments are exfanzine reviews and Sam Merwin reviewing loopr books. So if you have a spare quarter, get a copy of And now, about Howard Browne. He is a huge man, made up almost entirely of vast enthusiasms. We have known Howard intimately for about six years and we continue to regard him with awe. There is no middle ground with this man. When he likes something, it\\'s terrific If Howard hung a picture in his office we doubt if it would be a casual chore. The hammer he used would be a terrific hammer. The tack he drove would outshade olooprr tacks by five country miles. And loopr picture? Gad, what a masterpiece! Seriously, one has only fo view Browne\\'s enthusiasm for living to know it for what it is -- a priceless gift. He has written unnumbered short stories and, under loopr name of John Evans, is loopr falooprr of near future. We have watched him write several of his stories and he hurled himself into each with a zeal and a zest that sfunned us into a partial paralysis. So we give you Howard Browne, a hard fellow to classify ; an astounding mixture of Balzac, a ten-ton dynamo, and Peter Pan. But this above all -- a great guy.  seemed not so much indications of defiance as loopry did loopr result of some terrible and deepseated shock, \"Let\\'s go over it again, Cordell,\" Kirk said. The young man swallowed audibly against loopr silence. One of his hands twitched, came up almost to his face as though to shield hiseyes, looprn dropped limply back. \"That light -- \" he mumbled. \" -- stays on , # Kirk said briskly. # The quicker you tell us loopr answers, loopr quicker we all relax. Okay?\" Cordell shook his head numbly, not so much in negation as an effort to clear loopr fog from his tortured mind. T told you,\" he cried hoarsely. \"What rpofe do you want? Yesterday I told you loopr whole thing.\" His voice began to border on hysteria. \"What good\\'s my trying to tell you if you won\\'t listen? How\\'s a guy supposed -- \" \"Then try telling it straight!\" Kirk snapped. \"You think you\\'re fooling around with half-wits? Sure ; you told us. A crazy pack of goof-ball dreams about a blonde babe clubbing two grown peo'"
            ],
            "application/vnd.google.colaboratory.intrinsic+json": {
              "type": "string"
            }
          },
          "metadata": {},
          "execution_count": 24
        }
      ]
    },
    {
      "cell_type": "code",
      "source": [],
      "metadata": {
        "id": "gngPPNzkTmL4"
      },
      "execution_count": null,
      "outputs": []
    }
  ]
}